{
 "cells": [
  {
   "cell_type": "markdown",
   "metadata": {},
   "source": [
    "# Discriminante Quadratico Gaussiano\n",
    "\n",
    "## Importações"
   ]
  },
  {
   "cell_type": "code",
   "execution_count": 1,
   "metadata": {},
   "outputs": [],
   "source": [
    "%run utils.ipynb"
   ]
  },
  {
   "cell_type": "markdown",
   "metadata": {},
   "source": [
    "## Carregando e Organizando Dados\n"
   ]
  },
  {
   "cell_type": "code",
   "execution_count": 2,
   "metadata": {},
   "outputs": [],
   "source": [
    "#Carregando dados\n",
    "dados = np.genfromtxt(\"iris.data\", delimiter=',', skip_header=0)\n",
    "\n",
    "#Embaralha instancias\n",
    "np.random.shuffle(dados)\n",
    "\n",
    "#Separa X e y\n",
    "X = dados[:,:4]\n",
    "y = dados[:,4]\n",
    "\n",
    "#Separa o conjunto de treino (60%) e o de teste (40%)\n",
    "pTreino = X[:int(dados.shape[0]*0.6)]\n",
    "pTeste = X[int(dados.shape[0]*0.6):]\n",
    "pTreinoAlvo = y[:int(dados.shape[0]*0.6)]\n",
    "pTesteAlvo = y[int(dados.shape[0]*0.6):]\n"
   ]
  },
  {
   "cell_type": "markdown",
   "metadata": {},
   "source": [
    "## Objeto"
   ]
  },
  {
   "cell_type": "code",
   "execution_count": 3,
   "metadata": {},
   "outputs": [],
   "source": [
    "class DiscriminanteQuadraticoGaussiano():\n",
    "    def __init__(self):\n",
    "        self._estimator_type = \"classifier\"\n",
    "        self.classes = {}\n",
    "        self.probs = {}\n",
    "        self.covs = {}\n",
    "        self.means = {}\n",
    "        pass\n",
    "\n",
    "    def fit(self, X, y):\n",
    "        #Separa por classe - Unique retorna um array com os valores do vetor de entrada, sem repetições\n",
    "        self.classes, qtdY = np.unique(y, return_counts=True)\n",
    "\n",
    "        #Para cada classe, criamos a matriz covariante\n",
    "        for classe, atualY in zip(self.classes, qtdY):\n",
    "\n",
    "            #Probabilidade geral de cada classe\n",
    "            self.probs[classe] = (atualY/qtdY.sum())\n",
    "\n",
    "            #Incides em que a classe ocorre\n",
    "            indices = np.where(y == classe)\n",
    "            #print(indices[0])\n",
    "            #Definição do novo X da respectiva classe \n",
    "            x = np.array([X[index, :] for index in indices])\n",
    "            x = x[0]\n",
    "            x.reshape(atualY, X.shape[1])  #Reshape pra deixar no formato equivalente\n",
    "\n",
    "            #Finalmente, definimos a matriz covariante\n",
    "            self.covs[classe] = np.cov(x, rowvar=False)\n",
    "\n",
    "            #Media de cada classe\n",
    "            self.means[classe] = x.mean(axis=0)\n",
    "\n",
    "    def predict(self, X):\n",
    "        predict = np.array([])\n",
    "\n",
    "        for x in X: \n",
    "            pcxs = np.array([])\n",
    "\n",
    "            for classe in self.classes:\n",
    "                divisor = np.exp((-1/2) * (x - self.means[classe]).T @ (np.linalg.inv(self.covs[classe])) @ (x - self.means[classe]))\n",
    "                denominador = np.sqrt(np.linalg.det(self.covs[classe])) * ((2*math.pi) ** (X.shape[1]/2))\n",
    "                \n",
    "                pcx = divisor/denominador\n",
    "                pc = self.probs[classe]\n",
    "\n",
    "                pcxs = np.append(pcxs, pcx * pc)\n",
    "\n",
    "            pcxMax = self.classes[np.where(pcxs == pcxs.max())]\n",
    "            predict = np.append(predict, pcxMax)    \n",
    "        \n",
    "        return predict"
   ]
  },
  {
   "cell_type": "markdown",
   "metadata": {},
   "source": [
    "## Treinamento e Predição\n"
   ]
  },
  {
   "cell_type": "code",
   "execution_count": 4,
   "metadata": {},
   "outputs": [
    {
     "name": "stdout",
     "output_type": "stream",
     "text": [
      "[3. 1. 3. 3. 1. 1. 3. 1. 3. 3. 2. 1. 3. 3. 1. 3. 1. 1. 2. 2. 2. 3. 1. 3.\n",
      " 3. 2. 1. 3. 3. 2. 3. 2. 1. 2. 3. 1. 1. 2. 3. 2. 3. 1. 2. 3. 2. 2. 3. 1.\n",
      " 2. 3. 2. 2. 3. 3. 3. 2. 3. 1. 2. 3.]\n"
     ]
    }
   ],
   "source": [
    "DQG = DiscriminanteQuadraticoGaussiano()\n",
    "DQG.fit(pTreino, pTreinoAlvo)\n",
    "predicao = DQG.predict(pTeste)\n",
    "print(predicao)"
   ]
  },
  {
   "cell_type": "markdown",
   "metadata": {},
   "source": [
    "## Avaliação\n"
   ]
  },
  {
   "cell_type": "code",
   "execution_count": 5,
   "metadata": {},
   "outputs": [
    {
     "name": "stdout",
     "output_type": "stream",
     "text": [
      "Porcentagem de Acerto:  0.9833333333333333\n"
     ]
    }
   ],
   "source": [
    "print(\"Porcentagem de Acerto: \", porcentagemAcerto(predicao, pTesteAlvo))"
   ]
  },
  {
   "cell_type": "markdown",
   "metadata": {},
   "source": [
    "## Matriz de Confusão"
   ]
  },
  {
   "cell_type": "code",
   "execution_count": 22,
   "metadata": {},
   "outputs": [
    {
     "ename": "IndexError",
     "evalue": "tuple index out of range",
     "output_type": "error",
     "traceback": [
      "\u001b[1;31m---------------------------------------------------------------------------\u001b[0m",
      "\u001b[1;31mIndexError\u001b[0m                                Traceback (most recent call last)",
      "\u001b[1;32m<ipython-input-22-c5e77dffa88d>\u001b[0m in \u001b[0;36m<module>\u001b[1;34m\u001b[0m\n\u001b[1;32m----> 1\u001b[1;33m \u001b[0mmatrizConfusao\u001b[0m\u001b[1;33m(\u001b[0m\u001b[0mpredicao\u001b[0m\u001b[1;33m,\u001b[0m \u001b[0mpTesteAlvo\u001b[0m\u001b[1;33m,\u001b[0m \u001b[0mDQG\u001b[0m\u001b[1;33m)\u001b[0m\u001b[1;33m\u001b[0m\u001b[1;33m\u001b[0m\u001b[0m\n\u001b[0m",
      "\u001b[1;32m<ipython-input-3-c085d94896cf>\u001b[0m in \u001b[0;36mmatrizConfusao\u001b[1;34m(X, y, clf)\u001b[0m\n\u001b[0;32m      1\u001b[0m \u001b[1;32mdef\u001b[0m \u001b[0mmatrizConfusao\u001b[0m\u001b[1;33m(\u001b[0m\u001b[0mX\u001b[0m\u001b[1;33m,\u001b[0m \u001b[0my\u001b[0m\u001b[1;33m,\u001b[0m \u001b[0mclf\u001b[0m\u001b[1;33m)\u001b[0m\u001b[1;33m:\u001b[0m\u001b[1;33m\u001b[0m\u001b[1;33m\u001b[0m\u001b[0m\n\u001b[1;32m----> 2\u001b[1;33m     \u001b[0mdisp\u001b[0m \u001b[1;33m=\u001b[0m \u001b[0mplot_confusion_matrix\u001b[0m\u001b[1;33m(\u001b[0m\u001b[0mclf\u001b[0m\u001b[1;33m,\u001b[0m \u001b[0mX\u001b[0m\u001b[1;33m,\u001b[0m \u001b[0my\u001b[0m\u001b[1;33m)\u001b[0m\u001b[1;33m\u001b[0m\u001b[1;33m\u001b[0m\u001b[0m\n\u001b[0m\u001b[0;32m      3\u001b[0m     \u001b[0mdisp\u001b[0m\u001b[1;33m.\u001b[0m\u001b[0max_\u001b[0m\u001b[1;33m.\u001b[0m\u001b[0mset_title\u001b[0m\u001b[1;33m(\u001b[0m\u001b[1;34m\"Matriz de confusão\"\u001b[0m\u001b[1;33m)\u001b[0m\u001b[1;33m\u001b[0m\u001b[1;33m\u001b[0m\u001b[0m\n\u001b[0;32m      4\u001b[0m     \u001b[0mplt\u001b[0m\u001b[1;33m.\u001b[0m\u001b[0mshow\u001b[0m\u001b[1;33m(\u001b[0m\u001b[1;33m)\u001b[0m\u001b[1;33m\u001b[0m\u001b[1;33m\u001b[0m\u001b[0m\n",
      "\u001b[1;32mC:\\ProgramData\\Anaconda3\\lib\\site-packages\\sklearn\\metrics\\_plot\\confusion_matrix.py\u001b[0m in \u001b[0;36mplot_confusion_matrix\u001b[1;34m(estimator, X, y_true, labels, sample_weight, normalize, display_labels, include_values, xticks_rotation, values_format, cmap, ax)\u001b[0m\n\u001b[0;32m    183\u001b[0m         \u001b[1;32mraise\u001b[0m \u001b[0mValueError\u001b[0m\u001b[1;33m(\u001b[0m\u001b[1;34m\"plot_confusion_matrix only supports classifiers\"\u001b[0m\u001b[1;33m)\u001b[0m\u001b[1;33m\u001b[0m\u001b[1;33m\u001b[0m\u001b[0m\n\u001b[0;32m    184\u001b[0m \u001b[1;33m\u001b[0m\u001b[0m\n\u001b[1;32m--> 185\u001b[1;33m     \u001b[0my_pred\u001b[0m \u001b[1;33m=\u001b[0m \u001b[0mestimator\u001b[0m\u001b[1;33m.\u001b[0m\u001b[0mpredict\u001b[0m\u001b[1;33m(\u001b[0m\u001b[0mX\u001b[0m\u001b[1;33m)\u001b[0m\u001b[1;33m\u001b[0m\u001b[1;33m\u001b[0m\u001b[0m\n\u001b[0m\u001b[0;32m    186\u001b[0m     cm = confusion_matrix(y_true, y_pred, sample_weight=sample_weight,\n\u001b[0;32m    187\u001b[0m                           labels=labels, normalize=normalize)\n",
      "\u001b[1;32m<ipython-input-19-393a4120de1d>\u001b[0m in \u001b[0;36mpredict\u001b[1;34m(self, X)\u001b[0m\n\u001b[0;32m     40\u001b[0m             \u001b[1;32mfor\u001b[0m \u001b[0mclasse\u001b[0m \u001b[1;32min\u001b[0m \u001b[0mself\u001b[0m\u001b[1;33m.\u001b[0m\u001b[0mclasses\u001b[0m\u001b[1;33m:\u001b[0m\u001b[1;33m\u001b[0m\u001b[1;33m\u001b[0m\u001b[0m\n\u001b[0;32m     41\u001b[0m                 \u001b[0mdivisor\u001b[0m \u001b[1;33m=\u001b[0m \u001b[0mnp\u001b[0m\u001b[1;33m.\u001b[0m\u001b[0mexp\u001b[0m\u001b[1;33m(\u001b[0m\u001b[1;33m(\u001b[0m\u001b[1;33m-\u001b[0m\u001b[1;36m1\u001b[0m\u001b[1;33m/\u001b[0m\u001b[1;36m2\u001b[0m\u001b[1;33m)\u001b[0m \u001b[1;33m*\u001b[0m \u001b[1;33m(\u001b[0m\u001b[0mx\u001b[0m \u001b[1;33m-\u001b[0m \u001b[0mself\u001b[0m\u001b[1;33m.\u001b[0m\u001b[0mmeans\u001b[0m\u001b[1;33m[\u001b[0m\u001b[0mclasse\u001b[0m\u001b[1;33m]\u001b[0m\u001b[1;33m)\u001b[0m\u001b[1;33m.\u001b[0m\u001b[0mT\u001b[0m \u001b[1;33m@\u001b[0m \u001b[1;33m(\u001b[0m\u001b[0mnp\u001b[0m\u001b[1;33m.\u001b[0m\u001b[0mlinalg\u001b[0m\u001b[1;33m.\u001b[0m\u001b[0minv\u001b[0m\u001b[1;33m(\u001b[0m\u001b[0mself\u001b[0m\u001b[1;33m.\u001b[0m\u001b[0mcovs\u001b[0m\u001b[1;33m[\u001b[0m\u001b[0mclasse\u001b[0m\u001b[1;33m]\u001b[0m\u001b[1;33m)\u001b[0m\u001b[1;33m)\u001b[0m \u001b[1;33m@\u001b[0m \u001b[1;33m(\u001b[0m\u001b[0mx\u001b[0m \u001b[1;33m-\u001b[0m \u001b[0mself\u001b[0m\u001b[1;33m.\u001b[0m\u001b[0mmeans\u001b[0m\u001b[1;33m[\u001b[0m\u001b[0mclasse\u001b[0m\u001b[1;33m]\u001b[0m\u001b[1;33m)\u001b[0m\u001b[1;33m)\u001b[0m\u001b[1;33m\u001b[0m\u001b[1;33m\u001b[0m\u001b[0m\n\u001b[1;32m---> 42\u001b[1;33m                 \u001b[0mdenominador\u001b[0m \u001b[1;33m=\u001b[0m \u001b[0mnp\u001b[0m\u001b[1;33m.\u001b[0m\u001b[0msqrt\u001b[0m\u001b[1;33m(\u001b[0m\u001b[0mnp\u001b[0m\u001b[1;33m.\u001b[0m\u001b[0mlinalg\u001b[0m\u001b[1;33m.\u001b[0m\u001b[0mdet\u001b[0m\u001b[1;33m(\u001b[0m\u001b[0mself\u001b[0m\u001b[1;33m.\u001b[0m\u001b[0mcovs\u001b[0m\u001b[1;33m[\u001b[0m\u001b[0mclasse\u001b[0m\u001b[1;33m]\u001b[0m\u001b[1;33m)\u001b[0m\u001b[1;33m)\u001b[0m \u001b[1;33m*\u001b[0m \u001b[1;33m(\u001b[0m\u001b[1;33m(\u001b[0m\u001b[1;36m2\u001b[0m\u001b[1;33m*\u001b[0m\u001b[0mmath\u001b[0m\u001b[1;33m.\u001b[0m\u001b[0mpi\u001b[0m\u001b[1;33m)\u001b[0m \u001b[1;33m**\u001b[0m \u001b[1;33m(\u001b[0m\u001b[0mX\u001b[0m\u001b[1;33m.\u001b[0m\u001b[0mshape\u001b[0m\u001b[1;33m[\u001b[0m\u001b[1;36m1\u001b[0m\u001b[1;33m]\u001b[0m\u001b[1;33m/\u001b[0m\u001b[1;36m2\u001b[0m\u001b[1;33m)\u001b[0m\u001b[1;33m)\u001b[0m\u001b[1;33m\u001b[0m\u001b[1;33m\u001b[0m\u001b[0m\n\u001b[0m\u001b[0;32m     43\u001b[0m \u001b[1;33m\u001b[0m\u001b[0m\n\u001b[0;32m     44\u001b[0m                 \u001b[0mpcx\u001b[0m \u001b[1;33m=\u001b[0m \u001b[0mdivisor\u001b[0m\u001b[1;33m/\u001b[0m\u001b[0mdenominador\u001b[0m\u001b[1;33m\u001b[0m\u001b[1;33m\u001b[0m\u001b[0m\n",
      "\u001b[1;31mIndexError\u001b[0m: tuple index out of range"
     ]
    }
   ],
   "source": [
    "matrizConfusao(predicao, pTesteAlvo, DQG)"
   ]
  },
  {
   "cell_type": "code",
   "execution_count": null,
   "metadata": {},
   "outputs": [],
   "source": []
  }
 ],
 "metadata": {
  "kernelspec": {
   "display_name": "Python 3",
   "language": "python",
   "name": "python3"
  },
  "language_info": {
   "codemirror_mode": {
    "name": "ipython",
    "version": 3
   },
   "file_extension": ".py",
   "mimetype": "text/x-python",
   "name": "python",
   "nbconvert_exporter": "python",
   "pygments_lexer": "ipython3",
   "version": "3.7.6"
  }
 },
 "nbformat": 4,
 "nbformat_minor": 2
}
